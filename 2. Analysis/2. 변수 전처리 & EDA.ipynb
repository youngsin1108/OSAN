{
 "cells": [
  {
   "cell_type": "markdown",
   "id": "editorial-calculator",
   "metadata": {},
   "source": [
    "# 2. 변수 전처리 & EDA\n",
    "\n",
    "+ 결측치 제거\n",
    "+ 분석 단위인 격자 별 데이터로 변환"
   ]
  },
  {
   "cell_type": "markdown",
   "id": "informed-blake",
   "metadata": {},
   "source": [
    "## 0. 교통사고 발생 건수"
   ]
  },
  {
   "cell_type": "code",
   "execution_count": 21,
   "id": "geological-electric",
   "metadata": {},
   "outputs": [],
   "source": [
    "# 격자별 교통사고 발생 건수\n",
    "data2 = gpd.read_file('2.오산시_어린이교통사고_격자.geojson')"
   ]
  },
  {
   "cell_type": "code",
   "execution_count": 22,
   "id": "statewide-thinking",
   "metadata": {},
   "outputs": [],
   "source": [
    "# 도로와 겹치지 않는 격자 제거\n",
    "data23 = gpd.read_file('23.오산시_상세도로망_LV6.geojson')"
   ]
  },
  {
   "cell_type": "code",
   "execution_count": 23,
   "id": "split-frequency",
   "metadata": {},
   "outputs": [
    {
     "data": {
      "text/plain": [
       "4510"
      ]
     },
     "execution_count": 23,
     "metadata": {},
     "output_type": "execute_result"
    }
   ],
   "source": [
    "road = data23.geometry.unary_union\n",
    "#filter1 = [geo.intersects(road) for geo in data2.geometry[:10]]\n",
    "\n",
    "filter1 = []\n",
    "for index, row in data2.iterrows():\n",
    "    filter1.append(row.geometry.intersects(road))\n",
    "\n",
    "len(filter1)"
   ]
  },
  {
   "cell_type": "code",
   "execution_count": 24,
   "id": "casual-unknown",
   "metadata": {
    "scrolled": true
   },
   "outputs": [
    {
     "data": {
      "text/html": [
       "<div>\n",
       "<style scoped>\n",
       "    .dataframe tbody tr th:only-of-type {\n",
       "        vertical-align: middle;\n",
       "    }\n",
       "\n",
       "    .dataframe tbody tr th {\n",
       "        vertical-align: top;\n",
       "    }\n",
       "\n",
       "    .dataframe thead th {\n",
       "        text-align: right;\n",
       "    }\n",
       "</style>\n",
       "<table border=\"1\" class=\"dataframe\">\n",
       "  <thead>\n",
       "    <tr style=\"text-align: right;\">\n",
       "      <th></th>\n",
       "      <th>accident_cnt</th>\n",
       "    </tr>\n",
       "  </thead>\n",
       "  <tbody>\n",
       "    <tr>\n",
       "      <th>count</th>\n",
       "      <td>49.000000</td>\n",
       "    </tr>\n",
       "    <tr>\n",
       "      <th>mean</th>\n",
       "      <td>1.122449</td>\n",
       "    </tr>\n",
       "    <tr>\n",
       "      <th>std</th>\n",
       "      <td>0.389051</td>\n",
       "    </tr>\n",
       "    <tr>\n",
       "      <th>min</th>\n",
       "      <td>1.000000</td>\n",
       "    </tr>\n",
       "    <tr>\n",
       "      <th>25%</th>\n",
       "      <td>1.000000</td>\n",
       "    </tr>\n",
       "    <tr>\n",
       "      <th>50%</th>\n",
       "      <td>1.000000</td>\n",
       "    </tr>\n",
       "    <tr>\n",
       "      <th>75%</th>\n",
       "      <td>1.000000</td>\n",
       "    </tr>\n",
       "    <tr>\n",
       "      <th>max</th>\n",
       "      <td>3.000000</td>\n",
       "    </tr>\n",
       "  </tbody>\n",
       "</table>\n",
       "</div>"
      ],
      "text/plain": [
       "       accident_cnt\n",
       "count     49.000000\n",
       "mean       1.122449\n",
       "std        0.389051\n",
       "min        1.000000\n",
       "25%        1.000000\n",
       "50%        1.000000\n",
       "75%        1.000000\n",
       "max        3.000000"
      ]
     },
     "execution_count": 24,
     "metadata": {},
     "output_type": "execute_result"
    }
   ],
   "source": [
    "#도로와 겹치는 구간만을 표기하는 filter1\n",
    "#도로가 없는데 어린이 교통사고가 일어나는 곳\n",
    "data2[~np.array(filter1)][data2[~np.array(filter1)].accident_cnt > 0].describe()\n",
    "#다발구간은 없으므로 제거하기로 한다"
   ]
  },
  {
   "cell_type": "code",
   "execution_count": 25,
   "id": "geographic-thumb",
   "metadata": {},
   "outputs": [],
   "source": [
    "data2 = data2[filter1]"
   ]
  },
  {
   "cell_type": "code",
   "execution_count": 26,
   "id": "adjacent-proof",
   "metadata": {},
   "outputs": [
    {
     "name": "stderr",
     "output_type": "stream",
     "text": [
      "/opt/app-root/lib/python3.6/site-packages/IPython/core/interactiveshell.py:3072: DtypeWarning: Columns (7) have mixed types.Specify dtype option on import or set low_memory=False.\n",
      "  interactivity=interactivity, compiler=compiler, result=result)\n"
     ]
    }
   ],
   "source": [
    "# 교통사고 관련 요인\n",
    "data1 = pd.read_csv('1.오산시_주정차단속(2018~2020).csv') #1. parking\n",
    "data3 = gpd.read_file('3.오산시_차량등록현황_격자.geojson') #2. car_cnt\n",
    "data4 = gpd.read_file('4.오산시_연령별_거주인구격자(총인구).geojson') #3. pop_whole\n",
    "data5 = gpd.read_file('5.오산시_연령별_거주인구격자(유소년).geojson') #4 pop_kid\n",
    "data17 = gpd.read_file('17.오산시_횡단보도.geojson') #5 crswlk\n",
    "data19 = gpd.read_file('19.오산시_신호등.geojson') #6 trf_lit\n",
    "data23 = gpd.read_file('23.오산시_상세도로망_LV6.geojson')\n",
    "data24 = pd.read_csv('24.평일_전일,시간대별_오산시_추정교통량_Level6.csv') # 7.trf_jam\n",
    "\n",
    "\n",
    "data15 = pd.read_csv('15.오산시_무인교통단속카메라.csv') #8 trf_cam\n",
    "data16 = pd.read_csv('16.오산시_도로안전표지표준데이터.csv') #9 trf_sign\n",
    "data18 = pd.read_csv('18.오산시_과속방지턱표준데이터.csv') #10 spd_bmp\n",
    "data20 = pd.read_csv('20.오산시_CCTV설치현황.csv') #11 cctv\n",
    "\n",
    "data8 = pd.read_csv(\"8.오산시_유동인구(2019).csv\")\n",
    "data27 = gpd.read_file('27.오산시_도로명주소_건물.geojson')"
   ]
  },
  {
   "cell_type": "markdown",
   "id": "southeast-twenty",
   "metadata": {},
   "source": [
    "##  1. 불법 주정차"
   ]
  },
  {
   "cell_type": "code",
   "execution_count": 27,
   "id": "metallic-bonus",
   "metadata": {},
   "outputs": [],
   "source": [
    "data1.isna().any()\n",
    "#위도 경도에 결측치 존재\n",
    "data1[data1.단속위치_경도.isna()].단속위치.unique()\n",
    "#유탑유블레스 남측에서 단속 [37.1413500, 127.072400]\n",
    "data1.fillna({\"단속위치_경도\":127.072400, \"단속위치_위도\":37.1413500}, inplace=True)"
   ]
  },
  {
   "cell_type": "code",
   "execution_count": 28,
   "id": "existing-blair",
   "metadata": {},
   "outputs": [],
   "source": [
    "data1_geo = gpd.GeoDataFrame(data1, geometry = gpd.points_from_xy(data1.단속위치_경도, data1.단속위치_위도))\n",
    "data1_geo[\"parking\"] = 1\n",
    "data1_geo.crs = data2.crs"
   ]
  },
  {
   "cell_type": "code",
   "execution_count": 29,
   "id": "familiar-ideal",
   "metadata": {},
   "outputs": [
    {
     "data": {
      "text/html": [
       "<div>\n",
       "<style scoped>\n",
       "    .dataframe tbody tr th:only-of-type {\n",
       "        vertical-align: middle;\n",
       "    }\n",
       "\n",
       "    .dataframe tbody tr th {\n",
       "        vertical-align: top;\n",
       "    }\n",
       "\n",
       "    .dataframe thead th {\n",
       "        text-align: right;\n",
       "    }\n",
       "</style>\n",
       "<table border=\"1\" class=\"dataframe\">\n",
       "  <thead>\n",
       "    <tr style=\"text-align: right;\">\n",
       "      <th></th>\n",
       "      <th>단속일자</th>\n",
       "      <th>단속위치</th>\n",
       "      <th>행정구역</th>\n",
       "      <th>스쿨존여부</th>\n",
       "      <th>단속위치_경도</th>\n",
       "      <th>단속위치_위도</th>\n",
       "      <th>단속종류</th>\n",
       "      <th>geometry</th>\n",
       "      <th>parking</th>\n",
       "    </tr>\n",
       "  </thead>\n",
       "  <tbody>\n",
       "    <tr>\n",
       "      <th>0</th>\n",
       "      <td>20181101</td>\n",
       "      <td>금암동 여계산로 부근</td>\n",
       "      <td>경기도 오산시 세교동</td>\n",
       "      <td>N</td>\n",
       "      <td>127.043462</td>\n",
       "      <td>37.170237</td>\n",
       "      <td>이동형CCTV단속</td>\n",
       "      <td>POINT (127.04346 37.17024)</td>\n",
       "      <td>1</td>\n",
       "    </tr>\n",
       "    <tr>\n",
       "      <th>1</th>\n",
       "      <td>20181101</td>\n",
       "      <td>세교동 세마역로19번길</td>\n",
       "      <td>경기도 오산시 세교동</td>\n",
       "      <td>N</td>\n",
       "      <td>127.044770</td>\n",
       "      <td>37.181695</td>\n",
       "      <td>이동형CCTV단속</td>\n",
       "      <td>POINT (127.04477 37.18169)</td>\n",
       "      <td>1</td>\n",
       "    </tr>\n",
       "    <tr>\n",
       "      <th>2</th>\n",
       "      <td>20181101</td>\n",
       "      <td>세교동 수목원로 부근</td>\n",
       "      <td>경기도 오산시 양산동</td>\n",
       "      <td>N</td>\n",
       "      <td>127.042200</td>\n",
       "      <td>37.186357</td>\n",
       "      <td>이동형CCTV단속</td>\n",
       "      <td>POINT (127.04220 37.18636)</td>\n",
       "      <td>1</td>\n",
       "    </tr>\n",
       "    <tr>\n",
       "      <th>3</th>\n",
       "      <td>20181101</td>\n",
       "      <td>오산동 오산로272번길 부</td>\n",
       "      <td>경기도 오산시 원동</td>\n",
       "      <td>N</td>\n",
       "      <td>127.071732</td>\n",
       "      <td>37.150557</td>\n",
       "      <td>이동형CCTV단속</td>\n",
       "      <td>POINT (127.07173 37.15056)</td>\n",
       "      <td>1</td>\n",
       "    </tr>\n",
       "    <tr>\n",
       "      <th>4</th>\n",
       "      <td>20181101</td>\n",
       "      <td>오산동 성호대로93번길</td>\n",
       "      <td>경기도 오산시 부산동</td>\n",
       "      <td>N</td>\n",
       "      <td>127.071757</td>\n",
       "      <td>37.150457</td>\n",
       "      <td>이동형CCTV단속</td>\n",
       "      <td>POINT (127.07176 37.15046)</td>\n",
       "      <td>1</td>\n",
       "    </tr>\n",
       "    <tr>\n",
       "      <th>...</th>\n",
       "      <td>...</td>\n",
       "      <td>...</td>\n",
       "      <td>...</td>\n",
       "      <td>...</td>\n",
       "      <td>...</td>\n",
       "      <td>...</td>\n",
       "      <td>...</td>\n",
       "      <td>...</td>\n",
       "      <td>...</td>\n",
       "    </tr>\n",
       "    <tr>\n",
       "      <th>61696</th>\n",
       "      <td>20201111</td>\n",
       "      <td>GS25궐동대호점 맞은편</td>\n",
       "      <td>경기도 오산시 청학동</td>\n",
       "      <td>N</td>\n",
       "      <td>127.053064</td>\n",
       "      <td>37.158140</td>\n",
       "      <td>고정형CCTV단속</td>\n",
       "      <td>POINT (127.05306 37.15814)</td>\n",
       "      <td>1</td>\n",
       "    </tr>\n",
       "    <tr>\n",
       "      <th>61697</th>\n",
       "      <td>20201111</td>\n",
       "      <td>물향기지하도</td>\n",
       "      <td>경기도 오산시 원동</td>\n",
       "      <td>N</td>\n",
       "      <td>127.066157</td>\n",
       "      <td>37.171143</td>\n",
       "      <td>고정형CCTV단속</td>\n",
       "      <td>POINT (127.06616 37.17114)</td>\n",
       "      <td>1</td>\n",
       "    </tr>\n",
       "    <tr>\n",
       "      <th>61698</th>\n",
       "      <td>20201111</td>\n",
       "      <td>운암2단지 근린공원삼거</td>\n",
       "      <td>경기도 오산시 청호동</td>\n",
       "      <td>N</td>\n",
       "      <td>127.077283</td>\n",
       "      <td>37.158126</td>\n",
       "      <td>고정형CCTV단속</td>\n",
       "      <td>POINT (127.07728 37.15813)</td>\n",
       "      <td>1</td>\n",
       "    </tr>\n",
       "    <tr>\n",
       "      <th>61699</th>\n",
       "      <td>20201111</td>\n",
       "      <td>궐동 양평해장국 사거리</td>\n",
       "      <td>경기도 오산시 궐동</td>\n",
       "      <td>N</td>\n",
       "      <td>127.056665</td>\n",
       "      <td>37.155827</td>\n",
       "      <td>고정형CCTV단속</td>\n",
       "      <td>POINT (127.05666 37.15583)</td>\n",
       "      <td>1</td>\n",
       "    </tr>\n",
       "    <tr>\n",
       "      <th>61700</th>\n",
       "      <td>20201111</td>\n",
       "      <td>어울림(북개천) 사거리</td>\n",
       "      <td>경기도 오산시 부산동</td>\n",
       "      <td>N</td>\n",
       "      <td>127.068644</td>\n",
       "      <td>37.143810</td>\n",
       "      <td>고정형CCTV단속</td>\n",
       "      <td>POINT (127.06864 37.14381)</td>\n",
       "      <td>1</td>\n",
       "    </tr>\n",
       "  </tbody>\n",
       "</table>\n",
       "<p>61701 rows × 9 columns</p>\n",
       "</div>"
      ],
      "text/plain": [
       "           단속일자            단속위치         행정구역 스쿨존여부     단속위치_경도    단속위치_위도  \\\n",
       "0      20181101     금암동 여계산로 부근  경기도 오산시 세교동     N  127.043462  37.170237   \n",
       "1      20181101    세교동 세마역로19번길  경기도 오산시 세교동     N  127.044770  37.181695   \n",
       "2      20181101     세교동 수목원로 부근  경기도 오산시 양산동     N  127.042200  37.186357   \n",
       "3      20181101  오산동 오산로272번길 부   경기도 오산시 원동     N  127.071732  37.150557   \n",
       "4      20181101    오산동 성호대로93번길  경기도 오산시 부산동     N  127.071757  37.150457   \n",
       "...         ...             ...          ...   ...         ...        ...   \n",
       "61696  20201111   GS25궐동대호점 맞은편  경기도 오산시 청학동     N  127.053064  37.158140   \n",
       "61697  20201111          물향기지하도   경기도 오산시 원동     N  127.066157  37.171143   \n",
       "61698  20201111    운암2단지 근린공원삼거  경기도 오산시 청호동     N  127.077283  37.158126   \n",
       "61699  20201111    궐동 양평해장국 사거리   경기도 오산시 궐동     N  127.056665  37.155827   \n",
       "61700  20201111    어울림(북개천) 사거리  경기도 오산시 부산동     N  127.068644  37.143810   \n",
       "\n",
       "            단속종류                    geometry  parking  \n",
       "0      이동형CCTV단속  POINT (127.04346 37.17024)        1  \n",
       "1      이동형CCTV단속  POINT (127.04477 37.18169)        1  \n",
       "2      이동형CCTV단속  POINT (127.04220 37.18636)        1  \n",
       "3      이동형CCTV단속  POINT (127.07173 37.15056)        1  \n",
       "4      이동형CCTV단속  POINT (127.07176 37.15046)        1  \n",
       "...          ...                         ...      ...  \n",
       "61696  고정형CCTV단속  POINT (127.05306 37.15814)        1  \n",
       "61697  고정형CCTV단속  POINT (127.06616 37.17114)        1  \n",
       "61698  고정형CCTV단속  POINT (127.07728 37.15813)        1  \n",
       "61699  고정형CCTV단속  POINT (127.05666 37.15583)        1  \n",
       "61700  고정형CCTV단속  POINT (127.06864 37.14381)        1  \n",
       "\n",
       "[61701 rows x 9 columns]"
      ]
     },
     "execution_count": 29,
     "metadata": {},
     "output_type": "execute_result"
    }
   ],
   "source": [
    "data1_geo"
   ]
  },
  {
   "cell_type": "code",
   "execution_count": 30,
   "id": "apart-parent",
   "metadata": {},
   "outputs": [],
   "source": [
    "merge_a = gpd.sjoin(data1_geo, data2, op = \"within\", how = \"right\")\n",
    "parking = merge_a.groupby(['gid']).agg({'parking': 'sum'})"
   ]
  },
  {
   "cell_type": "markdown",
   "id": "foreign-malpractice",
   "metadata": {},
   "source": [
    "## 2. 차량 등록대수"
   ]
  },
  {
   "cell_type": "code",
   "execution_count": 31,
   "id": "wrapped-gospel",
   "metadata": {},
   "outputs": [],
   "source": [
    "# 2. 차량등록현황\n",
    "\n",
    "car_cnt = pd.merge(data3, data2, on=\"gid\", how= \"right\")[\"car_cnt\"]\n",
    "#격자별 데이터로 변환"
   ]
  },
  {
   "cell_type": "markdown",
   "id": "opened-bubble",
   "metadata": {},
   "source": [
    "## 3-4. 거주 인주"
   ]
  },
  {
   "cell_type": "code",
   "execution_count": 32,
   "id": "balanced-courtesy",
   "metadata": {},
   "outputs": [],
   "source": [
    "# 3. 총 거주인구 & 4. 유소년 거주 인구\n",
    "data4.columns = [\"gid\", \"pop_whole\", \"geometry\"]\n",
    "data5.columns = [\"gid\", \"pop_kid\", \"geometry\"]\n",
    "#격자 형태의 데이터, 단 격자 주위의 데이터도 고려할 필요"
   ]
  },
  {
   "cell_type": "code",
   "execution_count": 33,
   "id": "grave-slope",
   "metadata": {},
   "outputs": [
    {
     "name": "stderr",
     "output_type": "stream",
     "text": [
      "/opt/app-root/lib/python3.6/site-packages/ipykernel_launcher.py:3: UserWarning: Geometry is in a geographic CRS. Results from 'centroid' are likely incorrect. Use 'GeoSeries.to_crs()' to re-project geometries to a projected CRS before this operation.\n",
      "\n",
      "  This is separate from the ipykernel package so we can avoid doing imports until\n",
      "/opt/app-root/lib/python3.6/site-packages/ipykernel_launcher.py:8: UserWarning: Geometry is in a geographic CRS. Results from 'buffer' are likely incorrect. Use 'GeoSeries.to_crs()' to re-project geometries to a projected CRS before this operation.\n",
      "\n",
      "  \n"
     ]
    }
   ],
   "source": [
    "# 총인구\n",
    "data4_cen = data4.copy()\n",
    "data4_cen[\"geometry\"] = data4_cen[\"geometry\"].centroid\n",
    "data4_cen[\"count\"] = 1\n",
    "data4_cen.crs = data2.crs\n",
    "\n",
    "data4_buf = data4.copy()\n",
    "data4_buf[\"geometry\"] = data4_cen[\"geometry\"].buffer(0.0015) # 주위 격자를 포함할수 있도록 buffer\n",
    "data4_buf.head()\n",
    "data4_buf.crs = data2.crs\n",
    "\n",
    "merge4 = gpd.sjoin(data4_cen, data4_buf.drop(\"pop_whole\",axis =1), op = \"within\", how = \"right\")\n",
    "data4_new =  merge4.groupby(['gid_y']).agg({\"pop_whole\": \"sum\", 'count': 'sum', \"geometry\": \"first\"})"
   ]
  },
  {
   "cell_type": "code",
   "execution_count": 34,
   "id": "antique-settlement",
   "metadata": {},
   "outputs": [
    {
     "data": {
      "text/html": [
       "<div>\n",
       "<style scoped>\n",
       "    .dataframe tbody tr th:only-of-type {\n",
       "        vertical-align: middle;\n",
       "    }\n",
       "\n",
       "    .dataframe tbody tr th {\n",
       "        vertical-align: top;\n",
       "    }\n",
       "\n",
       "    .dataframe thead th {\n",
       "        text-align: right;\n",
       "    }\n",
       "</style>\n",
       "<table border=\"1\" class=\"dataframe\">\n",
       "  <thead>\n",
       "    <tr style=\"text-align: right;\">\n",
       "      <th></th>\n",
       "      <th>gid</th>\n",
       "      <th>pop_whole</th>\n",
       "      <th>geometry</th>\n",
       "      <th>count</th>\n",
       "    </tr>\n",
       "  </thead>\n",
       "  <tbody>\n",
       "    <tr>\n",
       "      <th>0</th>\n",
       "      <td>다사551085</td>\n",
       "      <td>NaN</td>\n",
       "      <td>POINT (126.99478 37.17464)</td>\n",
       "      <td>1</td>\n",
       "    </tr>\n",
       "    <tr>\n",
       "      <th>1</th>\n",
       "      <td>다사551086</td>\n",
       "      <td>NaN</td>\n",
       "      <td>POINT (126.99477 37.17554)</td>\n",
       "      <td>1</td>\n",
       "    </tr>\n",
       "    <tr>\n",
       "      <th>2</th>\n",
       "      <td>다사551087</td>\n",
       "      <td>NaN</td>\n",
       "      <td>POINT (126.99476 37.17644)</td>\n",
       "      <td>1</td>\n",
       "    </tr>\n",
       "    <tr>\n",
       "      <th>3</th>\n",
       "      <td>다사551088</td>\n",
       "      <td>NaN</td>\n",
       "      <td>POINT (126.99476 37.17734)</td>\n",
       "      <td>1</td>\n",
       "    </tr>\n",
       "    <tr>\n",
       "      <th>4</th>\n",
       "      <td>다사552085</td>\n",
       "      <td>NaN</td>\n",
       "      <td>POINT (126.99590 37.17464)</td>\n",
       "      <td>1</td>\n",
       "    </tr>\n",
       "    <tr>\n",
       "      <th>...</th>\n",
       "      <td>...</td>\n",
       "      <td>...</td>\n",
       "      <td>...</td>\n",
       "      <td>...</td>\n",
       "    </tr>\n",
       "    <tr>\n",
       "      <th>4505</th>\n",
       "      <td>다사646052</td>\n",
       "      <td>NaN</td>\n",
       "      <td>POINT (127.10194 37.14530)</td>\n",
       "      <td>1</td>\n",
       "    </tr>\n",
       "    <tr>\n",
       "      <th>4506</th>\n",
       "      <td>다사646053</td>\n",
       "      <td>NaN</td>\n",
       "      <td>POINT (127.10194 37.14620)</td>\n",
       "      <td>1</td>\n",
       "    </tr>\n",
       "    <tr>\n",
       "      <th>4507</th>\n",
       "      <td>다사647050</td>\n",
       "      <td>NaN</td>\n",
       "      <td>POINT (127.10308 37.14350)</td>\n",
       "      <td>1</td>\n",
       "    </tr>\n",
       "    <tr>\n",
       "      <th>4508</th>\n",
       "      <td>다사647051</td>\n",
       "      <td>NaN</td>\n",
       "      <td>POINT (127.10308 37.14440)</td>\n",
       "      <td>1</td>\n",
       "    </tr>\n",
       "    <tr>\n",
       "      <th>4509</th>\n",
       "      <td>다사647052</td>\n",
       "      <td>NaN</td>\n",
       "      <td>POINT (127.10307 37.14530)</td>\n",
       "      <td>1</td>\n",
       "    </tr>\n",
       "  </tbody>\n",
       "</table>\n",
       "<p>4510 rows × 4 columns</p>\n",
       "</div>"
      ],
      "text/plain": [
       "           gid  pop_whole                    geometry  count\n",
       "0     다사551085        NaN  POINT (126.99478 37.17464)      1\n",
       "1     다사551086        NaN  POINT (126.99477 37.17554)      1\n",
       "2     다사551087        NaN  POINT (126.99476 37.17644)      1\n",
       "3     다사551088        NaN  POINT (126.99476 37.17734)      1\n",
       "4     다사552085        NaN  POINT (126.99590 37.17464)      1\n",
       "...        ...        ...                         ...    ...\n",
       "4505  다사646052        NaN  POINT (127.10194 37.14530)      1\n",
       "4506  다사646053        NaN  POINT (127.10194 37.14620)      1\n",
       "4507  다사647050        NaN  POINT (127.10308 37.14350)      1\n",
       "4508  다사647051        NaN  POINT (127.10308 37.14440)      1\n",
       "4509  다사647052        NaN  POINT (127.10307 37.14530)      1\n",
       "\n",
       "[4510 rows x 4 columns]"
      ]
     },
     "execution_count": 34,
     "metadata": {},
     "output_type": "execute_result"
    }
   ],
   "source": [
    "data4_cen"
   ]
  },
  {
   "cell_type": "code",
   "execution_count": 35,
   "id": "pleasant-liechtenstein",
   "metadata": {},
   "outputs": [
    {
     "name": "stderr",
     "output_type": "stream",
     "text": [
      "/opt/app-root/lib/python3.6/site-packages/ipykernel_launcher.py:3: UserWarning: Geometry is in a geographic CRS. Results from 'centroid' are likely incorrect. Use 'GeoSeries.to_crs()' to re-project geometries to a projected CRS before this operation.\n",
      "\n",
      "  This is separate from the ipykernel package so we can avoid doing imports until\n",
      "/opt/app-root/lib/python3.6/site-packages/ipykernel_launcher.py:8: UserWarning: Geometry is in a geographic CRS. Results from 'buffer' are likely incorrect. Use 'GeoSeries.to_crs()' to re-project geometries to a projected CRS before this operation.\n",
      "\n",
      "  \n"
     ]
    }
   ],
   "source": [
    "#유소년 인구\n",
    "data5_cen = data5.copy()\n",
    "data5_cen[\"geometry\"] = data5_cen[\"geometry\"].centroid\n",
    "data5_cen[\"count\"] = 1\n",
    "data5_cen.crs = data2.crs\n",
    "\n",
    "data5_buf = data5.copy()\n",
    "data5_buf[\"geometry\"] = data5_cen[\"geometry\"].buffer(0.0015)\n",
    "data5_buf.head()\n",
    "data5_buf.crs = data2.crs\n",
    "\n",
    "merge5 = gpd.sjoin(data5_cen, data5_buf.drop(\"pop_kid\",axis =1), op = \"within\", how = \"right\")\n",
    "\n",
    "data5_new =  merge5.groupby(['gid_y']).agg({\"pop_kid\": \"sum\", 'count': 'sum', \"geometry\": \"first\"})"
   ]
  },
  {
   "cell_type": "code",
   "execution_count": 36,
   "id": "developmental-rough",
   "metadata": {},
   "outputs": [],
   "source": [
    "pop_whole = pd.merge(data4_new,data2, left_on=\"gid_y\", right_on = \"gid\", how = \"right\")[\"pop_whole\"]\n",
    "pop_kid = pd.merge(data5_new,data2, left_on=\"gid_y\", right_on = \"gid\", how = \"right\")[\"pop_kid\"]"
   ]
  },
  {
   "cell_type": "markdown",
   "id": "egyptian-arizona",
   "metadata": {},
   "source": [
    "## 5. 횡단보도"
   ]
  },
  {
   "cell_type": "code",
   "execution_count": 37,
   "id": "neither-avatar",
   "metadata": {},
   "outputs": [],
   "source": [
    "data17 = gpd.read_file('17.오산시_횡단보도.geojson') #5 crswlk"
   ]
  },
  {
   "cell_type": "code",
   "execution_count": 38,
   "id": "acknowledged-magnet",
   "metadata": {},
   "outputs": [
    {
     "name": "stderr",
     "output_type": "stream",
     "text": [
      "/opt/app-root/lib/python3.6/site-packages/ipykernel_launcher.py:6: UserWarning: Geometry is in a geographic CRS. Results from 'centroid' are likely incorrect. Use 'GeoSeries.to_crs()' to re-project geometries to a projected CRS before this operation.\n",
      "\n",
      "  \n"
     ]
    }
   ],
   "source": [
    "# 5. 횡단보도\n",
    "\n",
    "#다각형을 중심점 으로 바꿔줌\n",
    "data17_p  = data17.copy()\n",
    "data17_p[\"crswlk\"] = 1\n",
    "data17_p['geometry']  = data17_p['geometry'].centroid\n",
    "data17_p.crs = data2.crs"
   ]
  },
  {
   "cell_type": "code",
   "execution_count": 39,
   "id": "economic-charlotte",
   "metadata": {},
   "outputs": [
    {
     "data": {
      "text/html": [
       "<div>\n",
       "<style scoped>\n",
       "    .dataframe tbody tr th:only-of-type {\n",
       "        vertical-align: middle;\n",
       "    }\n",
       "\n",
       "    .dataframe tbody tr th {\n",
       "        vertical-align: top;\n",
       "    }\n",
       "\n",
       "    .dataframe thead th {\n",
       "        text-align: right;\n",
       "    }\n",
       "</style>\n",
       "<table border=\"1\" class=\"dataframe\">\n",
       "  <thead>\n",
       "    <tr style=\"text-align: right;\">\n",
       "      <th></th>\n",
       "      <th>OBJECTID</th>\n",
       "      <th>geometry</th>\n",
       "      <th>crswlk</th>\n",
       "    </tr>\n",
       "  </thead>\n",
       "  <tbody>\n",
       "    <tr>\n",
       "      <th>0</th>\n",
       "      <td>2</td>\n",
       "      <td>POINT (127.06174 37.15702)</td>\n",
       "      <td>1</td>\n",
       "    </tr>\n",
       "    <tr>\n",
       "      <th>1</th>\n",
       "      <td>3</td>\n",
       "      <td>POINT (127.03179 37.19500)</td>\n",
       "      <td>1</td>\n",
       "    </tr>\n",
       "    <tr>\n",
       "      <th>2</th>\n",
       "      <td>4</td>\n",
       "      <td>POINT (127.05529 37.15642)</td>\n",
       "      <td>1</td>\n",
       "    </tr>\n",
       "    <tr>\n",
       "      <th>3</th>\n",
       "      <td>5</td>\n",
       "      <td>POINT (127.04937 37.13433)</td>\n",
       "      <td>1</td>\n",
       "    </tr>\n",
       "    <tr>\n",
       "      <th>4</th>\n",
       "      <td>6</td>\n",
       "      <td>POINT (127.06222 37.14971)</td>\n",
       "      <td>1</td>\n",
       "    </tr>\n",
       "    <tr>\n",
       "      <th>...</th>\n",
       "      <td>...</td>\n",
       "      <td>...</td>\n",
       "      <td>...</td>\n",
       "    </tr>\n",
       "    <tr>\n",
       "      <th>1200</th>\n",
       "      <td>1292</td>\n",
       "      <td>POINT (127.07844 37.13977)</td>\n",
       "      <td>1</td>\n",
       "    </tr>\n",
       "    <tr>\n",
       "      <th>1201</th>\n",
       "      <td>1294</td>\n",
       "      <td>POINT (127.08992 37.15084)</td>\n",
       "      <td>1</td>\n",
       "    </tr>\n",
       "    <tr>\n",
       "      <th>1202</th>\n",
       "      <td>1295</td>\n",
       "      <td>POINT (127.05784 37.15206)</td>\n",
       "      <td>1</td>\n",
       "    </tr>\n",
       "    <tr>\n",
       "      <th>1203</th>\n",
       "      <td>1297</td>\n",
       "      <td>POINT (127.04294 37.18184)</td>\n",
       "      <td>1</td>\n",
       "    </tr>\n",
       "    <tr>\n",
       "      <th>1204</th>\n",
       "      <td>1298</td>\n",
       "      <td>POINT (127.05858 37.17104)</td>\n",
       "      <td>1</td>\n",
       "    </tr>\n",
       "  </tbody>\n",
       "</table>\n",
       "<p>1205 rows × 3 columns</p>\n",
       "</div>"
      ],
      "text/plain": [
       "      OBJECTID                    geometry  crswlk\n",
       "0            2  POINT (127.06174 37.15702)       1\n",
       "1            3  POINT (127.03179 37.19500)       1\n",
       "2            4  POINT (127.05529 37.15642)       1\n",
       "3            5  POINT (127.04937 37.13433)       1\n",
       "4            6  POINT (127.06222 37.14971)       1\n",
       "...        ...                         ...     ...\n",
       "1200      1292  POINT (127.07844 37.13977)       1\n",
       "1201      1294  POINT (127.08992 37.15084)       1\n",
       "1202      1295  POINT (127.05784 37.15206)       1\n",
       "1203      1297  POINT (127.04294 37.18184)       1\n",
       "1204      1298  POINT (127.05858 37.17104)       1\n",
       "\n",
       "[1205 rows x 3 columns]"
      ]
     },
     "execution_count": 39,
     "metadata": {},
     "output_type": "execute_result"
    }
   ],
   "source": [
    "data17_p"
   ]
  },
  {
   "cell_type": "code",
   "execution_count": 40,
   "id": "abroad-ireland",
   "metadata": {},
   "outputs": [],
   "source": [
    "#격자 단위로 전환\n",
    "merge_b = gpd.sjoin(data17_p, data2, op = \"within\", how = \"right\")\n",
    "crswlk = merge_b.groupby('gid').agg({'crswlk': 'sum'})"
   ]
  },
  {
   "cell_type": "markdown",
   "id": "joint-eight",
   "metadata": {},
   "source": [
    "## 6. 신호등"
   ]
  },
  {
   "cell_type": "code",
   "execution_count": 41,
   "id": "dietary-saturn",
   "metadata": {},
   "outputs": [],
   "source": [
    "# 6. 신호등\n",
    "\n",
    "#격자 단위로 전환\n",
    "data19[\"trf_lit\"] = 1\n",
    "merge_c = gpd.sjoin(data19, data2, op = \"within\", how = \"right\")\n",
    "trf_lit = merge_c.groupby('gid').agg({'trf_lit': 'sum'})"
   ]
  },
  {
   "cell_type": "markdown",
   "id": "intense-choice",
   "metadata": {},
   "source": [
    "## 7. 도로 교통량\n",
    "\n",
    "+ 시간 단위로 측정됨\n",
    "+ 가장 유의한 시간대로 판단되는 오후 1~4시 위주의 격자별 교통량 변수 생성"
   ]
  },
  {
   "cell_type": "code",
   "execution_count": 42,
   "id": "planned-entrepreneur",
   "metadata": {},
   "outputs": [],
   "source": [
    "data24[\"link_id\"] = data24[\"상세도로망_LinkID\"].apply(lambda x: str(x)[:-2])"
   ]
  },
  {
   "cell_type": "code",
   "execution_count": 43,
   "id": "racial-table",
   "metadata": {},
   "outputs": [],
   "source": [
    "t8_9 = [a == '9' for a in data24.시간적범위]\n",
    "t13_16 = [b in ['13','14','15'] for b in data24.시간적범위] # 1~4시\n",
    "t16_19 = [c in ['16','17','18'] for c in data24.시간적범위] # 4~7시\n",
    "\n",
    "data24_8to9 = data24[t8_9]\n",
    "data24_13to16 = data24[t13_16]\n",
    "data24_16to19 = data24[t16_19]\n",
    "data24_all = data24[data24.시간적범위 == \"전일\"]"
   ]
  },
  {
   "cell_type": "code",
   "execution_count": 44,
   "id": "three-welding",
   "metadata": {},
   "outputs": [],
   "source": [
    "data23.drop(data23[data23.road_rank == \"101\"].index, inplace = True) #고속도로 제거"
   ]
  },
  {
   "cell_type": "code",
   "execution_count": 45,
   "id": "boolean-quest",
   "metadata": {},
   "outputs": [],
   "source": [
    "merge_13to16 = pd.merge(data23, data24_13to16, on = \"link_id\", how =\"left\") # 상세 도로 데이터와 병합\n",
    "data23_13to16 = merge_13to16.groupby('link_id').agg({\"max_speed\":\"first\", \"up_lanes\":\"first\", \"dw_lanes\":\"first\", \n",
    "                                                     \"oneway\":\"first\",\"전체 추정교통량\":\"mean\",\n",
    "                                                     \"승용차 추정교통량\":\"mean\", \"버스 추정교통량\":\"mean\",\"화물차 추정교통량\":\"mean\",\n",
    "                                                    \"geometry\":\"first\"})\n",
    "\n",
    "data23_13to16.dropna(inplace = True)\n",
    "data23_13to16.iloc[:,0:4] = data23_13to16.iloc[:,0:4].apply(lambda x: pd.to_numeric(x))\n",
    "data23_13to16 = gpd.GeoDataFrame(data23_13to16, geometry = data23_13to16.geometry)\n",
    "data23_13to16.crs = data2.crs\n",
    "\n",
    "join13to16 = gpd.sjoin(data23_13to16, data2, op= \"intersects\", how = \"right\")\n",
    "trf_jam = join13to16.groupby(\"gid\").agg(\"max\") #격자내 도로 중 최대 교통량"
   ]
  },
  {
   "cell_type": "markdown",
   "id": "stainless-spencer",
   "metadata": {},
   "source": [
    "## 8. 무인 교통단속카메라"
   ]
  },
  {
   "cell_type": "code",
   "execution_count": 46,
   "id": "stock-office",
   "metadata": {},
   "outputs": [],
   "source": [
    "data15_geo = gpd.GeoDataFrame(data15, geometry= gpd.points_from_xy(data15.설치위치_경도, data15.설치위치_위도))\n",
    "data15_geo[\"trf_cam\"] = 1\n",
    "data15_geo.crs = data2.crs"
   ]
  },
  {
   "cell_type": "code",
   "execution_count": 47,
   "id": "lyric-contemporary",
   "metadata": {},
   "outputs": [],
   "source": [
    "merge_d = gpd.sjoin(data15_geo, data2, op = \"within\", how = \"right\")\n",
    "trf_cam = merge_d.groupby('gid').agg({'trf_cam': 'sum'})"
   ]
  },
  {
   "cell_type": "markdown",
   "id": "unique-baseline",
   "metadata": {},
   "source": [
    "## 9. 도로안전표지표준데이터\n",
    "\n",
    "+ 도로안전표지는 표지종 분류 필요성\n",
    "+ 억제요인으로서의 표지(ex 감속) / 그 외(시선 분산요인) 분류"
   ]
  },
  {
   "cell_type": "code",
   "execution_count": 48,
   "id": "necessary-librarian",
   "metadata": {},
   "outputs": [],
   "source": [
    "trf_sign_p_list = [s in ['100m 출구감속표지','200m 출구감속표지','300m 출구감속표지','정류장표지'] for s in data16.표지종별]\n",
    "trf_sign_n_list = [s not in ['100m 출구감속표지','200m 출구감속표지','300m 출구감속표지','정류장표지'] for s in data16.표지종별]"
   ]
  },
  {
   "cell_type": "code",
   "execution_count": 49,
   "id": "significant-pavilion",
   "metadata": {},
   "outputs": [
    {
     "name": "stderr",
     "output_type": "stream",
     "text": [
      "/opt/app-root/lib/python3.6/site-packages/geopandas/geodataframe.py:1190: SettingWithCopyWarning: \n",
      "A value is trying to be set on a copy of a slice from a DataFrame.\n",
      "Try using .loc[row_indexer,col_indexer] = value instead\n",
      "\n",
      "See the caveats in the documentation: https://pandas.pydata.org/pandas-docs/stable/user_guide/indexing.html#returning-a-view-versus-a-copy\n",
      "  super(GeoDataFrame, self).__setitem__(key, value)\n"
     ]
    }
   ],
   "source": [
    "data16_geo = gpd.GeoDataFrame(data16, geometry= gpd.points_from_xy(data16.lon, data16.lat))\n",
    "data16_geo.crs = data2.crs\n",
    "data16_geo_p = data16_geo[trf_sign_p_list] #긍정 요인\n",
    "data16_geo_p[\"trf_sign_p\"] = 1\n",
    "data16_geo_n = data16_geo[trf_sign_n_list] #부정 요인\n",
    "data16_geo_n[\"trf_sign_n\"] = 1"
   ]
  },
  {
   "cell_type": "code",
   "execution_count": 50,
   "id": "asian-member",
   "metadata": {},
   "outputs": [],
   "source": [
    "merge_e = gpd.sjoin(data16_geo_p, data2, op = \"within\", how = \"right\")\n",
    "trf_sign_p = merge_e.groupby('gid').agg({'trf_sign_p': 'sum'})\n",
    "\n",
    "merge_f = gpd.sjoin(data16_geo_n, data2, op = \"within\", how = \"right\")\n",
    "trf_sign_n = merge_f.groupby('gid').agg({'trf_sign_n': 'sum'})"
   ]
  },
  {
   "cell_type": "markdown",
   "id": "impressive-stereo",
   "metadata": {},
   "source": [
    "## 10. 과속 방지턱"
   ]
  },
  {
   "cell_type": "code",
   "execution_count": 51,
   "id": "virtual-separation",
   "metadata": {},
   "outputs": [],
   "source": [
    "data18_geo = gpd.GeoDataFrame(data18, geometry= gpd.points_from_xy(data18.설치위치_경도, data18.설치위치_위도))\n",
    "data18_geo[\"spd_bmp\"] = 1\n",
    "data18_geo.crs = data2.crs"
   ]
  },
  {
   "cell_type": "code",
   "execution_count": 52,
   "id": "parallel-lender",
   "metadata": {},
   "outputs": [],
   "source": [
    "merge_g = gpd.sjoin(data18_geo, data2, op = \"within\", how = \"right\")\n",
    "spd_bmp = merge_g.groupby('gid').agg({'spd_bmp': 'sum'})"
   ]
  },
  {
   "cell_type": "markdown",
   "id": "complimentary-index",
   "metadata": {},
   "source": [
    "## 11. CCTV\n",
    "\n",
    "+ cctv역시 유형에 따라 분류하여 변수 생성"
   ]
  },
  {
   "cell_type": "code",
   "execution_count": 53,
   "id": "answering-disabled",
   "metadata": {},
   "outputs": [],
   "source": [
    "data20_geo = gpd.GeoDataFrame(data20, geometry= gpd.points_from_xy(data20.설치위치_경도, data20.설치위치_위도))\n",
    "data20_geo[\"cctv\"] = 1\n",
    "data20_geo.crs = data2.crs"
   ]
  },
  {
   "cell_type": "code",
   "execution_count": 54,
   "id": "functional-redhead",
   "metadata": {},
   "outputs": [],
   "source": [
    "# 유형 A : 방범\n",
    "merge_ha = gpd.sjoin(data20_geo[data20_geo[\"CCTV 유형코드\"] == 'A'], data2, op = \"within\", how = 'right')\n",
    "cctv_A = merge_ha.groupby('gid').agg({'cctv': 'sum'})\n",
    "cctv_A.rename(columns={'cctv': 'cctv_A'})\n",
    "\n",
    "# 유형 B : 도시공원\n",
    "merge_hb = gpd.sjoin(data20_geo[data20_geo[\"CCTV 유형코드\"] == 'B'], data2, op = \"within\", how = 'right')\n",
    "cctv_B = merge_hb.groupby('gid').agg({'cctv': 'sum'})\n",
    "cctv_B.rename(columns={'cctv': 'cctv_B'},inplace=True)\n",
    "\n",
    "# 유형 C : 어린이보호\n",
    "merge_hc = gpd.sjoin(data20_geo[data20_geo[\"CCTV 유형코드\"] == 'C'], data2, op = \"within\", how = 'right')\n",
    "cctv_C = merge_hc.groupby('gid').agg({'cctv': 'sum'})\n",
    "cctv_C.rename(columns={'cctv': 'cctv_C'},inplace=True)\n",
    "\n",
    "# 유형 D : 차량방범\n",
    "merge_hd = gpd.sjoin(data20_geo[data20_geo[\"CCTV 유형코드\"] == 'D'], data2, op = \"within\", how = 'right')\n",
    "cctv_D = merge_hd.groupby('gid').agg({'cctv': 'sum'})\n",
    "cctv_D.rename(columns={'cctv': 'cctv_D'},inplace=True)"
   ]
  },
  {
   "cell_type": "code",
   "execution_count": null,
   "id": "noticed-algorithm",
   "metadata": {},
   "outputs": [],
   "source": []
  }
 ],
 "metadata": {
  "kernelspec": {
   "display_name": "Python 3",
   "language": "python",
   "name": "python3"
  },
  "language_info": {
   "codemirror_mode": {
    "name": "ipython",
    "version": 3
   },
   "file_extension": ".py",
   "mimetype": "text/x-python",
   "name": "python",
   "nbconvert_exporter": "python",
   "pygments_lexer": "ipython3",
   "version": "3.6.9"
  }
 },
 "nbformat": 4,
 "nbformat_minor": 5
}
