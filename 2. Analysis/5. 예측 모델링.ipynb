{
 "cells": [
  {
   "cell_type": "markdown",
   "id": "similar-arctic",
   "metadata": {},
   "source": [
    "# 5. 예측 모델링\n",
    "\n",
    "+ 어린이 교통사고 발생이 Count 데이터이고 포아송 분포의 양상을 띔으로, 포아송 회귀, 음이항 회귀 모델을 적용하여 중요 변수 파악\n",
    "+ 이후 gwr를 통해 지역별 변수 영향및 중요도를 파악"
   ]
  },
  {
   "cell_type": "markdown",
   "id": "center-yellow",
   "metadata": {},
   "source": [
    "## 포아송 회귀 "
   ]
  },
  {
   "cell_type": "code",
   "execution_count": 95,
   "id": "isolated-thought",
   "metadata": {},
   "outputs": [
    {
     "name": "stdout",
     "output_type": "stream",
     "text": [
      "Optimization terminated successfully.\n",
      "         Current function value: 0.504966\n",
      "         Iterations 8\n",
      "                          Poisson Regression Results                          \n",
      "==============================================================================\n",
      "Dep. Variable:           accident_cnt   No. Observations:                 1787\n",
      "Model:                        Poisson   Df Residuals:                     1772\n",
      "Method:                           MLE   Df Model:                           14\n",
      "Date:                Wed, 24 Mar 2021   Pseudo R-squ.:                  0.3041\n",
      "Time:                        23:21:08   Log-Likelihood:                -902.37\n",
      "converged:                       True   LL-Null:                       -1296.6\n",
      "Covariance Type:            nonrobust   LLR p-value:                3.222e-159\n",
      "===============================================================================\n",
      "                  coef    std err          z      P>|z|      [0.025      0.975]\n",
      "-------------------------------------------------------------------------------\n",
      "Intercept      -2.5886      0.325     -7.962      0.000      -3.226      -1.951\n",
      "parking         0.0644      0.024      2.661      0.008       0.017       0.112\n",
      "car_cnt         0.0181      0.028      0.646      0.519      -0.037       0.073\n",
      "pop_whole       0.0169      0.050      0.341      0.733      -0.080       0.114\n",
      "pop_kid         0.0180      0.047      0.380      0.704      -0.075       0.111\n",
      "crswlk          0.0604      0.036      1.659      0.097      -0.011       0.132\n",
      "trf_lit         0.1343      0.024      5.585      0.000       0.087       0.181\n",
      "trf_sign_n      0.1637      0.044      3.745      0.000       0.078       0.249\n",
      "cross_all       0.1162      0.015      7.513      0.000       0.086       0.146\n",
      "cctv            0.4225      0.084      5.035      0.000       0.258       0.587\n",
      "dist_aca     -119.5880     18.204     -6.569      0.000    -155.268     -83.908\n",
      "dist_apt       26.8852     23.124      1.163      0.245     -18.437      72.208\n",
      "lane            0.0375      0.038      0.975      0.330      -0.038       0.113\n",
      "traffic_car     0.0002      0.000      1.595      0.111   -4.81e-05       0.000\n",
      "TMST_16_x       0.2265      0.049      4.629      0.000       0.131       0.322\n",
      "===============================================================================\n"
     ]
    }
   ],
   "source": [
    "#Poisson 회귀\n",
    "poisson1 = poisson('accident_cnt ~ parking + car_cnt + pop_whole + pop_kid + \\\n",
    "                    crswlk + trf_lit + trf_sign_n + cross_all + cctv + dist_aca+ dist_apt+ lane + traffic_car +TMST_16_x', data = data2_ad_log).fit()\n",
    "print(poisson1.summary())"
   ]
  },
  {
   "cell_type": "code",
   "execution_count": 96,
   "id": "gorgeous-cable",
   "metadata": {},
   "outputs": [
    {
     "name": "stderr",
     "output_type": "stream",
     "text": [
      "/opt/app-root/lib/python3.6/site-packages/matplotlib/cbook/__init__.py:2064: FutureWarning: Support for multi-dimensional indexing (e.g. `obj[:, None]`) is deprecated and will be removed in a future version.  Convert to a numpy array before indexing instead.\n",
      "  x[:, None]\n",
      "/opt/app-root/lib/python3.6/site-packages/matplotlib/axes/_base.py:250: FutureWarning: Support for multi-dimensional indexing (e.g. `obj[:, None]`) is deprecated and will be removed in a future version.  Convert to a numpy array before indexing instead.\n",
      "  y = y[:, np.newaxis]\n"
     ]
    },
    {
     "data": {
      "image/png": "[encoded data removed]",
      "text/plain": [
       "<Figure size 432x288 with 1 Axes>"
      ]
     },
     "metadata": {},
     "output_type": "display_data"
    }
   ],
   "source": [
    "preds = poisson1.predict()\n",
    "plt.plot(range(len(data2_ad_log.accident_cnt)), data2_ad_log.accident_cnt, 'r*-', range(len(data2_ad_log.accident_cnt)), preds, 'bo-')\n",
    "plt.title('True vs fitted values')\n",
    "plt.legend(['Real Values', 'Fitted Values'])\n",
    "plt.show()"
   ]
  },
  {
   "cell_type": "markdown",
   "id": "specialized-aruba",
   "metadata": {},
   "source": [
    "## 음이항 회귀"
   ]
  },
  {
   "cell_type": "code",
   "execution_count": 97,
   "id": "capable-monitor",
   "metadata": {},
   "outputs": [
    {
     "name": "stdout",
     "output_type": "stream",
     "text": [
      "Optimization terminated successfully.\n",
      "         Current function value: 0.504966\n",
      "         Iterations 8\n",
      "                          Poisson Regression Results                          \n",
      "==============================================================================\n",
      "Dep. Variable:           accident_cnt   No. Observations:                 1787\n",
      "Model:                        Poisson   Df Residuals:                     1772\n",
      "Method:                           MLE   Df Model:                           14\n",
      "Date:                Wed, 24 Mar 2021   Pseudo R-squ.:                  0.3041\n",
      "Time:                        23:21:09   Log-Likelihood:                -902.37\n",
      "converged:                       True   LL-Null:                       -1296.6\n",
      "Covariance Type:            nonrobust   LLR p-value:                3.222e-159\n",
      "===============================================================================\n",
      "                  coef    std err          z      P>|z|      [0.025      0.975]\n",
      "-------------------------------------------------------------------------------\n",
      "Intercept      -2.5886      0.325     -7.962      0.000      -3.226      -1.951\n",
      "parking         0.0644      0.024      2.661      0.008       0.017       0.112\n",
      "car_cnt         0.0181      0.028      0.646      0.519      -0.037       0.073\n",
      "pop_whole       0.0169      0.050      0.341      0.733      -0.080       0.114\n",
      "pop_kid         0.0180      0.047      0.380      0.704      -0.075       0.111\n",
      "crswlk          0.0604      0.036      1.659      0.097      -0.011       0.132\n",
      "trf_lit         0.1343      0.024      5.585      0.000       0.087       0.181\n",
      "trf_sign_n      0.1637      0.044      3.745      0.000       0.078       0.249\n",
      "cross_all       0.1162      0.015      7.513      0.000       0.086       0.146\n",
      "cctv            0.4225      0.084      5.035      0.000       0.258       0.587\n",
      "dist_aca     -119.5880     18.204     -6.569      0.000    -155.268     -83.908\n",
      "dist_apt       26.8852     23.124      1.163      0.245     -18.437      72.208\n",
      "lane            0.0375      0.038      0.975      0.330      -0.038       0.113\n",
      "traffic_car     0.0002      0.000      1.595      0.111   -4.81e-05       0.000\n",
      "TMST_16_x       0.2265      0.049      4.629      0.000       0.131       0.322\n",
      "===============================================================================\n"
     ]
    }
   ],
   "source": [
    "# Negetivebinomial - Overdispersion 고려\n",
    "nb1 = poisson('accident_cnt ~ parking + car_cnt + pop_whole + pop_kid + \\\n",
    "                    crswlk + trf_lit + trf_sign_n + cross_all + cctv + dist_aca+ dist_apt+ lane + traffic_car +TMST_16_x', data = data2_ad_log).fit()\n",
    "print(nb1.summary())"
   ]
  },
  {
   "cell_type": "code",
   "execution_count": 98,
   "id": "ambient-programmer",
   "metadata": {},
   "outputs": [
    {
     "name": "stderr",
     "output_type": "stream",
     "text": [
      "/opt/app-root/lib/python3.6/site-packages/matplotlib/cbook/__init__.py:2064: FutureWarning: Support for multi-dimensional indexing (e.g. `obj[:, None]`) is deprecated and will be removed in a future version.  Convert to a numpy array before indexing instead.\n",
      "  x[:, None]\n",
      "/opt/app-root/lib/python3.6/site-packages/matplotlib/axes/_base.py:250: FutureWarning: Support for multi-dimensional indexing (e.g. `obj[:, None]`) is deprecated and will be removed in a future version.  Convert to a numpy array before indexing instead.\n",
      "  y = y[:, np.newaxis]\n"
     ]
    },
    {
     "data": {
      "image/png": "[encoded data removed]",
      "text/plain": [
       "<Figure size 432x288 with 1 Axes>"
      ]
     },
     "metadata": {},
     "output_type": "display_data"
    }
   ],
   "source": [
    "preds = nb1.predict()\n",
    "plt.plot(range(len(data2_ad_log.accident_cnt)), data2_ad_log.accident_cnt, 'r*-', range(len(data2_ad_log.accident_cnt)), preds, 'bo-')\n",
    "plt.title('True vs fitted values')\n",
    "plt.legend(['Real Values', 'Fitted Values'])\n",
    "plt.show()"
   ]
  },
  {
   "cell_type": "markdown",
   "id": "official-nylon",
   "metadata": {},
   "source": [
    "+ 'parking','crswlk', 'trf_lit', 'cross_all', 'dist_aca','dist_apt', 'traffic_car','TMST_16_x' 이상 8개 변수 선택"
   ]
  },
  {
   "cell_type": "markdown",
   "id": "collectible-plate",
   "metadata": {},
   "source": [
    "## GWR(Geographically weighted Regression)\n",
    "\n",
    "+ 지역간 상관성을 고려한 회귀모델"
   ]
  },
  {
   "cell_type": "code",
   "execution_count": 99,
   "id": "jewish-chart",
   "metadata": {},
   "outputs": [],
   "source": [
    "X = data2_ad_log[['parking','crswlk', 'trf_lit', 'cross_all', 'dist_aca','dist_apt', 'traffic_car','TMST_16_x']]\n",
    "\n",
    "y = data2_ad_log['accident_cnt']"
   ]
  },
  {
   "cell_type": "code",
   "execution_count": 100,
   "id": "mighty-zambia",
   "metadata": {},
   "outputs": [],
   "source": [
    "#sns.pairplot(X)"
   ]
  },
  {
   "cell_type": "code",
   "execution_count": 101,
   "id": "noticed-henry",
   "metadata": {},
   "outputs": [
    {
     "name": "stderr",
     "output_type": "stream",
     "text": [
      "/opt/app-root/lib/python3.6/site-packages/ipykernel_launcher.py:4: UserWarning: Geometry is in a geographic CRS. Results from 'centroid' are likely incorrect. Use 'GeoSeries.to_crs()' to re-project geometries to a projected CRS before this operation.\n",
      "\n",
      "  after removing the cwd from sys.path.\n",
      "/opt/app-root/lib/python3.6/site-packages/ipykernel_launcher.py:5: UserWarning: Geometry is in a geographic CRS. Results from 'centroid' are likely incorrect. Use 'GeoSeries.to_crs()' to re-project geometries to a projected CRS before this operation.\n",
      "\n",
      "  \"\"\"\n"
     ]
    }
   ],
   "source": [
    "g_y = y.values.reshape(-1,1)\n",
    "g_X = X.values\n",
    "\n",
    "u = data2_ad_log.geometry.centroid.x\n",
    "v = data2_ad_log.geometry.centroid.y\n",
    "g_coords = list(zip(u,v))\n",
    "\n",
    "g_X = (g_X - g_X.mean(axis=0)) / g_X.std(axis=0)"
   ]
  },
  {
   "cell_type": "code",
   "execution_count": 102,
   "id": "linear-heart",
   "metadata": {
    "scrolled": true
   },
   "outputs": [
    {
     "name": "stderr",
     "output_type": "stream",
     "text": [
      "/opt/app-root/lib/python3.6/site-packages/spglm/iwls.py:37: LinAlgWarning: Ill-conditioned matrix (rcond=6.34409e-19): result may not be accurate.\n",
      "  xtx_inv_xt = linalg.solve(xtx, xT)\n",
      "/opt/app-root/lib/python3.6/site-packages/spglm/iwls.py:37: LinAlgWarning: Ill-conditioned matrix (rcond=4.28737e-20): result may not be accurate.\n",
      "  xtx_inv_xt = linalg.solve(xtx, xT)\n",
      "/opt/app-root/lib/python3.6/site-packages/spglm/iwls.py:37: LinAlgWarning: Ill-conditioned matrix (rcond=2.96819e-19): result may not be accurate.\n",
      "  xtx_inv_xt = linalg.solve(xtx, xT)\n",
      "/opt/app-root/lib/python3.6/site-packages/spglm/iwls.py:37: LinAlgWarning: Ill-conditioned matrix (rcond=1.45577e-19): result may not be accurate.\n",
      "  xtx_inv_xt = linalg.solve(xtx, xT)\n",
      "/opt/app-root/lib/python3.6/site-packages/spglm/iwls.py:37: LinAlgWarning: Ill-conditioned matrix (rcond=5.5485e-19): result may not be accurate.\n",
      "  xtx_inv_xt = linalg.solve(xtx, xT)\n",
      "/opt/app-root/lib/python3.6/site-packages/spglm/iwls.py:37: LinAlgWarning: Ill-conditioned matrix (rcond=5.10291e-19): result may not be accurate.\n",
      "  xtx_inv_xt = linalg.solve(xtx, xT)\n",
      "/opt/app-root/lib/python3.6/site-packages/spglm/iwls.py:37: LinAlgWarning: Ill-conditioned matrix (rcond=6.20716e-19): result may not be accurate.\n",
      "  xtx_inv_xt = linalg.solve(xtx, xT)\n",
      "/opt/app-root/lib/python3.6/site-packages/spglm/iwls.py:37: LinAlgWarning: Ill-conditioned matrix (rcond=6.15581e-19): result may not be accurate.\n",
      "  xtx_inv_xt = linalg.solve(xtx, xT)\n",
      "/opt/app-root/lib/python3.6/site-packages/spglm/iwls.py:37: LinAlgWarning: Ill-conditioned matrix (rcond=3.88685e-19): result may not be accurate.\n",
      "  xtx_inv_xt = linalg.solve(xtx, xT)\n",
      "/opt/app-root/lib/python3.6/site-packages/spglm/iwls.py:37: LinAlgWarning: Ill-conditioned matrix (rcond=7.21732e-19): result may not be accurate.\n",
      "  xtx_inv_xt = linalg.solve(xtx, xT)\n",
      "/opt/app-root/lib/python3.6/site-packages/spglm/iwls.py:37: LinAlgWarning: Ill-conditioned matrix (rcond=6.02593e-19): result may not be accurate.\n",
      "  xtx_inv_xt = linalg.solve(xtx, xT)\n",
      "/opt/app-root/lib/python3.6/site-packages/spglm/iwls.py:37: LinAlgWarning: Ill-conditioned matrix (rcond=3.28844e-19): result may not be accurate.\n",
      "  xtx_inv_xt = linalg.solve(xtx, xT)\n",
      "/opt/app-root/lib/python3.6/site-packages/spglm/iwls.py:37: LinAlgWarning: Ill-conditioned matrix (rcond=3.75388e-19): result may not be accurate.\n",
      "  xtx_inv_xt = linalg.solve(xtx, xT)\n",
      "/opt/app-root/lib/python3.6/site-packages/spglm/iwls.py:37: LinAlgWarning: Ill-conditioned matrix (rcond=1.19545e-18): result may not be accurate.\n",
      "  xtx_inv_xt = linalg.solve(xtx, xT)\n",
      "/opt/app-root/lib/python3.6/site-packages/spglm/iwls.py:37: LinAlgWarning: Ill-conditioned matrix (rcond=3.65117e-19): result may not be accurate.\n",
      "  xtx_inv_xt = linalg.solve(xtx, xT)\n",
      "/opt/app-root/lib/python3.6/site-packages/spglm/iwls.py:37: LinAlgWarning: Ill-conditioned matrix (rcond=1.14335e-18): result may not be accurate.\n",
      "  xtx_inv_xt = linalg.solve(xtx, xT)\n",
      "/opt/app-root/lib/python3.6/site-packages/spglm/iwls.py:37: LinAlgWarning: Ill-conditioned matrix (rcond=1.93484e-19): result may not be accurate.\n",
      "  xtx_inv_xt = linalg.solve(xtx, xT)\n",
      "/opt/app-root/lib/python3.6/site-packages/spglm/iwls.py:37: LinAlgWarning: Ill-conditioned matrix (rcond=1.10232e-19): result may not be accurate.\n",
      "  xtx_inv_xt = linalg.solve(xtx, xT)\n",
      "/opt/app-root/lib/python3.6/site-packages/spglm/iwls.py:37: LinAlgWarning: Ill-conditioned matrix (rcond=1.5258e-19): result may not be accurate.\n",
      "  xtx_inv_xt = linalg.solve(xtx, xT)\n",
      "/opt/app-root/lib/python3.6/site-packages/spglm/iwls.py:37: LinAlgWarning: Ill-conditioned matrix (rcond=4.56891e-20): result may not be accurate.\n",
      "  xtx_inv_xt = linalg.solve(xtx, xT)\n",
      "/opt/app-root/lib/python3.6/site-packages/spglm/iwls.py:37: LinAlgWarning: Ill-conditioned matrix (rcond=6.81927e-19): result may not be accurate.\n",
      "  xtx_inv_xt = linalg.solve(xtx, xT)\n",
      "/opt/app-root/lib/python3.6/site-packages/spglm/iwls.py:37: LinAlgWarning: Ill-conditioned matrix (rcond=3.45449e-19): result may not be accurate.\n",
      "  xtx_inv_xt = linalg.solve(xtx, xT)\n",
      "/opt/app-root/lib/python3.6/site-packages/spglm/iwls.py:37: LinAlgWarning: Ill-conditioned matrix (rcond=2.64684e-19): result may not be accurate.\n",
      "  xtx_inv_xt = linalg.solve(xtx, xT)\n",
      "/opt/app-root/lib/python3.6/site-packages/spglm/iwls.py:37: LinAlgWarning: Ill-conditioned matrix (rcond=5.6463e-19): result may not be accurate.\n",
      "  xtx_inv_xt = linalg.solve(xtx, xT)\n",
      "/opt/app-root/lib/python3.6/site-packages/spglm/iwls.py:37: LinAlgWarning: Ill-conditioned matrix (rcond=3.1264e-19): result may not be accurate.\n",
      "  xtx_inv_xt = linalg.solve(xtx, xT)\n",
      "/opt/app-root/lib/python3.6/site-packages/spglm/iwls.py:37: LinAlgWarning: Ill-conditioned matrix (rcond=2.03978e-18): result may not be accurate.\n",
      "  xtx_inv_xt = linalg.solve(xtx, xT)\n",
      "/opt/app-root/lib/python3.6/site-packages/spglm/iwls.py:37: LinAlgWarning: Ill-conditioned matrix (rcond=1.29252e-19): result may not be accurate.\n",
      "  xtx_inv_xt = linalg.solve(xtx, xT)\n",
      "/opt/app-root/lib/python3.6/site-packages/spglm/iwls.py:37: LinAlgWarning: Ill-conditioned matrix (rcond=7.6672e-19): result may not be accurate.\n",
      "  xtx_inv_xt = linalg.solve(xtx, xT)\n",
      "/opt/app-root/lib/python3.6/site-packages/spglm/iwls.py:37: LinAlgWarning: Ill-conditioned matrix (rcond=2.39281e-19): result may not be accurate.\n",
      "  xtx_inv_xt = linalg.solve(xtx, xT)\n",
      "/opt/app-root/lib/python3.6/site-packages/spglm/iwls.py:37: LinAlgWarning: Ill-conditioned matrix (rcond=5.55774e-19): result may not be accurate.\n",
      "  xtx_inv_xt = linalg.solve(xtx, xT)\n",
      "/opt/app-root/lib/python3.6/site-packages/spglm/iwls.py:37: LinAlgWarning: Ill-conditioned matrix (rcond=5.76651e-20): result may not be accurate.\n",
      "  xtx_inv_xt = linalg.solve(xtx, xT)\n",
      "/opt/app-root/lib/python3.6/site-packages/spglm/iwls.py:37: LinAlgWarning: Ill-conditioned matrix (rcond=8.16056e-20): result may not be accurate.\n",
      "  xtx_inv_xt = linalg.solve(xtx, xT)\n",
      "/opt/app-root/lib/python3.6/site-packages/spglm/iwls.py:37: LinAlgWarning: Ill-conditioned matrix (rcond=2.56896e-19): result may not be accurate.\n",
      "  xtx_inv_xt = linalg.solve(xtx, xT)\n",
      "/opt/app-root/lib/python3.6/site-packages/spglm/iwls.py:37: LinAlgWarning: Ill-conditioned matrix (rcond=1.74615e-19): result may not be accurate.\n",
      "  xtx_inv_xt = linalg.solve(xtx, xT)\n",
      "/opt/app-root/lib/python3.6/site-packages/spglm/iwls.py:37: LinAlgWarning: Ill-conditioned matrix (rcond=1.15702e-18): result may not be accurate.\n",
      "  xtx_inv_xt = linalg.solve(xtx, xT)\n",
      "/opt/app-root/lib/python3.6/site-packages/spglm/iwls.py:37: LinAlgWarning: Ill-conditioned matrix (rcond=4.00347e-19): result may not be accurate.\n",
      "  xtx_inv_xt = linalg.solve(xtx, xT)\n",
      "/opt/app-root/lib/python3.6/site-packages/spglm/iwls.py:37: LinAlgWarning: Ill-conditioned matrix (rcond=2.54936e-19): result may not be accurate.\n",
      "  xtx_inv_xt = linalg.solve(xtx, xT)\n",
      "/opt/app-root/lib/python3.6/site-packages/spglm/iwls.py:37: LinAlgWarning: Ill-conditioned matrix (rcond=7.83606e-19): result may not be accurate.\n",
      "  xtx_inv_xt = linalg.solve(xtx, xT)\n",
      "/opt/app-root/lib/python3.6/site-packages/spglm/iwls.py:37: LinAlgWarning: Ill-conditioned matrix (rcond=1.016e-18): result may not be accurate.\n",
      "  xtx_inv_xt = linalg.solve(xtx, xT)\n",
      "/opt/app-root/lib/python3.6/site-packages/spglm/iwls.py:37: LinAlgWarning: Ill-conditioned matrix (rcond=2.6497e-21): result may not be accurate.\n",
      "  xtx_inv_xt = linalg.solve(xtx, xT)\n",
      "/opt/app-root/lib/python3.6/site-packages/spglm/iwls.py:37: LinAlgWarning: Ill-conditioned matrix (rcond=2.67441e-19): result may not be accurate.\n",
      "  xtx_inv_xt = linalg.solve(xtx, xT)\n",
      "/opt/app-root/lib/python3.6/site-packages/spglm/iwls.py:37: LinAlgWarning: Ill-conditioned matrix (rcond=6.24821e-21): result may not be accurate.\n",
      "  xtx_inv_xt = linalg.solve(xtx, xT)\n",
      "/opt/app-root/lib/python3.6/site-packages/spglm/iwls.py:37: LinAlgWarning: Ill-conditioned matrix (rcond=7.97473e-19): result may not be accurate.\n",
      "  xtx_inv_xt = linalg.solve(xtx, xT)\n",
      "/opt/app-root/lib/python3.6/site-packages/spglm/iwls.py:37: LinAlgWarning: Ill-conditioned matrix (rcond=3.55617e-19): result may not be accurate.\n",
      "  xtx_inv_xt = linalg.solve(xtx, xT)\n",
      "/opt/app-root/lib/python3.6/site-packages/spglm/iwls.py:37: LinAlgWarning: Ill-conditioned matrix (rcond=4.04174e-19): result may not be accurate.\n",
      "  xtx_inv_xt = linalg.solve(xtx, xT)\n",
      "/opt/app-root/lib/python3.6/site-packages/spglm/iwls.py:37: LinAlgWarning: Ill-conditioned matrix (rcond=6.28121e-19): result may not be accurate.\n",
      "  xtx_inv_xt = linalg.solve(xtx, xT)\n",
      "/opt/app-root/lib/python3.6/site-packages/spglm/iwls.py:37: LinAlgWarning: Ill-conditioned matrix (rcond=3.52825e-20): result may not be accurate.\n",
      "  xtx_inv_xt = linalg.solve(xtx, xT)\n",
      "/opt/app-root/lib/python3.6/site-packages/spglm/iwls.py:37: LinAlgWarning: Ill-conditioned matrix (rcond=3.04462e-19): result may not be accurate.\n",
      "  xtx_inv_xt = linalg.solve(xtx, xT)\n",
      "/opt/app-root/lib/python3.6/site-packages/spglm/iwls.py:37: LinAlgWarning: Ill-conditioned matrix (rcond=7.38473e-19): result may not be accurate.\n",
      "  xtx_inv_xt = linalg.solve(xtx, xT)\n",
      "/opt/app-root/lib/python3.6/site-packages/spglm/iwls.py:37: LinAlgWarning: Ill-conditioned matrix (rcond=1.36646e-19): result may not be accurate.\n",
      "  xtx_inv_xt = linalg.solve(xtx, xT)\n",
      "/opt/app-root/lib/python3.6/site-packages/spglm/iwls.py:37: LinAlgWarning: Ill-conditioned matrix (rcond=1.71812e-18): result may not be accurate.\n",
      "  xtx_inv_xt = linalg.solve(xtx, xT)\n",
      "/opt/app-root/lib/python3.6/site-packages/spglm/iwls.py:37: LinAlgWarning: Ill-conditioned matrix (rcond=3.46682e-19): result may not be accurate.\n",
      "  xtx_inv_xt = linalg.solve(xtx, xT)\n",
      "/opt/app-root/lib/python3.6/site-packages/spglm/iwls.py:37: LinAlgWarning: Ill-conditioned matrix (rcond=5.41624e-19): result may not be accurate.\n",
      "  xtx_inv_xt = linalg.solve(xtx, xT)\n",
      "/opt/app-root/lib/python3.6/site-packages/spglm/iwls.py:37: LinAlgWarning: Ill-conditioned matrix (rcond=1.36912e-18): result may not be accurate.\n",
      "  xtx_inv_xt = linalg.solve(xtx, xT)\n",
      "/opt/app-root/lib/python3.6/site-packages/spglm/iwls.py:37: LinAlgWarning: Ill-conditioned matrix (rcond=6.23364e-19): result may not be accurate.\n",
      "  xtx_inv_xt = linalg.solve(xtx, xT)\n",
      "/opt/app-root/lib/python3.6/site-packages/spglm/iwls.py:37: LinAlgWarning: Ill-conditioned matrix (rcond=1.01059e-18): result may not be accurate.\n",
      "  xtx_inv_xt = linalg.solve(xtx, xT)\n",
      "/opt/app-root/lib/python3.6/site-packages/spglm/iwls.py:37: LinAlgWarning: Ill-conditioned matrix (rcond=8.30503e-19): result may not be accurate.\n",
      "  xtx_inv_xt = linalg.solve(xtx, xT)\n",
      "/opt/app-root/lib/python3.6/site-packages/spglm/iwls.py:37: LinAlgWarning: Ill-conditioned matrix (rcond=1.31724e-18): result may not be accurate.\n",
      "  xtx_inv_xt = linalg.solve(xtx, xT)\n",
      "/opt/app-root/lib/python3.6/site-packages/spglm/iwls.py:37: LinAlgWarning: Ill-conditioned matrix (rcond=3.54054e-19): result may not be accurate.\n",
      "  xtx_inv_xt = linalg.solve(xtx, xT)\n",
      "/opt/app-root/lib/python3.6/site-packages/spglm/iwls.py:37: LinAlgWarning: Ill-conditioned matrix (rcond=5.91652e-19): result may not be accurate.\n",
      "  xtx_inv_xt = linalg.solve(xtx, xT)\n",
      "/opt/app-root/lib/python3.6/site-packages/spglm/iwls.py:37: LinAlgWarning: Ill-conditioned matrix (rcond=9.18054e-19): result may not be accurate.\n",
      "  xtx_inv_xt = linalg.solve(xtx, xT)\n",
      "/opt/app-root/lib/python3.6/site-packages/spglm/iwls.py:37: LinAlgWarning: Ill-conditioned matrix (rcond=2.18543e-19): result may not be accurate.\n",
      "  xtx_inv_xt = linalg.solve(xtx, xT)\n",
      "/opt/app-root/lib/python3.6/site-packages/spglm/iwls.py:37: LinAlgWarning: Ill-conditioned matrix (rcond=3.95485e-19): result may not be accurate.\n",
      "  xtx_inv_xt = linalg.solve(xtx, xT)\n",
      "/opt/app-root/lib/python3.6/site-packages/spglm/iwls.py:37: LinAlgWarning: Ill-conditioned matrix (rcond=1.13031e-19): result may not be accurate.\n",
      "  xtx_inv_xt = linalg.solve(xtx, xT)\n",
      "/opt/app-root/lib/python3.6/site-packages/spglm/iwls.py:37: LinAlgWarning: Ill-conditioned matrix (rcond=2.05161e-18): result may not be accurate.\n",
      "  xtx_inv_xt = linalg.solve(xtx, xT)\n",
      "/opt/app-root/lib/python3.6/site-packages/spglm/iwls.py:37: LinAlgWarning: Ill-conditioned matrix (rcond=8.13549e-19): result may not be accurate.\n",
      "  xtx_inv_xt = linalg.solve(xtx, xT)\n",
      "/opt/app-root/lib/python3.6/site-packages/spglm/iwls.py:37: LinAlgWarning: Ill-conditioned matrix (rcond=6.56121e-19): result may not be accurate.\n",
      "  xtx_inv_xt = linalg.solve(xtx, xT)\n",
      "/opt/app-root/lib/python3.6/site-packages/spglm/iwls.py:37: LinAlgWarning: Ill-conditioned matrix (rcond=5.20712e-19): result may not be accurate.\n",
      "  xtx_inv_xt = linalg.solve(xtx, xT)\n",
      "/opt/app-root/lib/python3.6/site-packages/spglm/iwls.py:37: LinAlgWarning: Ill-conditioned matrix (rcond=1.56536e-19): result may not be accurate.\n",
      "  xtx_inv_xt = linalg.solve(xtx, xT)\n",
      "/opt/app-root/lib/python3.6/site-packages/spglm/iwls.py:37: LinAlgWarning: Ill-conditioned matrix (rcond=1.51707e-18): result may not be accurate.\n",
      "  xtx_inv_xt = linalg.solve(xtx, xT)\n",
      "/opt/app-root/lib/python3.6/site-packages/spglm/iwls.py:37: LinAlgWarning: Ill-conditioned matrix (rcond=6.67697e-19): result may not be accurate.\n",
      "  xtx_inv_xt = linalg.solve(xtx, xT)\n",
      "/opt/app-root/lib/python3.6/site-packages/spglm/iwls.py:37: LinAlgWarning: Ill-conditioned matrix (rcond=1.8865e-18): result may not be accurate.\n",
      "  xtx_inv_xt = linalg.solve(xtx, xT)\n",
      "/opt/app-root/lib/python3.6/site-packages/spglm/iwls.py:37: LinAlgWarning: Ill-conditioned matrix (rcond=3.95981e-18): result may not be accurate.\n",
      "  xtx_inv_xt = linalg.solve(xtx, xT)\n",
      "/opt/app-root/lib/python3.6/site-packages/spglm/iwls.py:37: LinAlgWarning: Ill-conditioned matrix (rcond=1.65386e-18): result may not be accurate.\n",
      "  xtx_inv_xt = linalg.solve(xtx, xT)\n",
      "/opt/app-root/lib/python3.6/site-packages/spglm/iwls.py:37: LinAlgWarning: Ill-conditioned matrix (rcond=1.14832e-18): result may not be accurate.\n",
      "  xtx_inv_xt = linalg.solve(xtx, xT)\n",
      "/opt/app-root/lib/python3.6/site-packages/spglm/iwls.py:37: LinAlgWarning: Ill-conditioned matrix (rcond=1.60015e-18): result may not be accurate.\n",
      "  xtx_inv_xt = linalg.solve(xtx, xT)\n",
      "/opt/app-root/lib/python3.6/site-packages/spglm/iwls.py:37: LinAlgWarning: Ill-conditioned matrix (rcond=6.11458e-18): result may not be accurate.\n",
      "  xtx_inv_xt = linalg.solve(xtx, xT)\n",
      "/opt/app-root/lib/python3.6/site-packages/spglm/iwls.py:37: LinAlgWarning: Ill-conditioned matrix (rcond=4.50037e-18): result may not be accurate.\n",
      "  xtx_inv_xt = linalg.solve(xtx, xT)\n",
      "/opt/app-root/lib/python3.6/site-packages/spglm/iwls.py:37: LinAlgWarning: Ill-conditioned matrix (rcond=1.61549e-18): result may not be accurate.\n",
      "  xtx_inv_xt = linalg.solve(xtx, xT)\n",
      "/opt/app-root/lib/python3.6/site-packages/spglm/iwls.py:37: LinAlgWarning: Ill-conditioned matrix (rcond=2.49708e-18): result may not be accurate.\n",
      "  xtx_inv_xt = linalg.solve(xtx, xT)\n",
      "/opt/app-root/lib/python3.6/site-packages/spglm/iwls.py:37: LinAlgWarning: Ill-conditioned matrix (rcond=9.70266e-19): result may not be accurate.\n",
      "  xtx_inv_xt = linalg.solve(xtx, xT)\n",
      "/opt/app-root/lib/python3.6/site-packages/spglm/iwls.py:37: LinAlgWarning: Ill-conditioned matrix (rcond=4.73845e-19): result may not be accurate.\n",
      "  xtx_inv_xt = linalg.solve(xtx, xT)\n"
     ]
    }
   ],
   "source": [
    "#gwr_selector = Sel_BW(g_coords, g_y, g_X)\n",
    "#gwr_bw = gwr_selector.search(bw_min=2)\n",
    "#print(gwr_bw)\n",
    "#bandweight = 90\n",
    "\n",
    "gwr_results = GWR(g_coords, g_y, g_X, bw = 90).fit()"
   ]
  },
  {
   "cell_type": "code",
   "execution_count": 103,
   "id": "precise-session",
   "metadata": {
    "scrolled": true
   },
   "outputs": [
    {
     "name": "stdout",
     "output_type": "stream",
     "text": [
      "===========================================================================\n",
      "Model type                                                         Gaussian\n",
      "Number of observations:                                                1787\n",
      "Number of covariates:                                                     9\n",
      "\n",
      "Global Regression Results\n",
      "---------------------------------------------------------------------------\n",
      "Residual sum of squares:                                            766.966\n",
      "Log-likelihood:                                                   -1779.875\n",
      "AIC:                                                               3577.750\n",
      "AICc:                                                              3579.874\n",
      "BIC:                                                             -12547.220\n",
      "R2:                                                                   0.276\n",
      "Adj. R2:                                                              0.273\n",
      "\n",
      "Variable                              Est.         SE  t(Est/SE)    p-value\n",
      "------------------------------- ---------- ---------- ---------- ----------\n",
      "X0                                   0.270      0.016     17.361      0.000\n",
      "X1                                   0.086      0.018      4.837      0.000\n",
      "X2                                   0.053      0.022      2.402      0.016\n",
      "X3                                   0.216      0.021     10.384      0.000\n",
      "X4                                   0.148      0.017      8.721      0.000\n",
      "X5                                  -0.152      0.025     -6.042      0.000\n",
      "X6                                   0.101      0.025      4.015      0.000\n",
      "X7                                   0.022      0.016      1.377      0.169\n",
      "X8                                   0.056      0.018      3.080      0.002\n",
      "\n",
      "Geographically Weighted Regression (GWR) Results\n",
      "---------------------------------------------------------------------------\n",
      "Spatial kernel:                                           Adaptive bisquare\n",
      "Bandwidth used:                                                      90.000\n",
      "\n",
      "Diagnostic information\n",
      "---------------------------------------------------------------------------\n",
      "Residual sum of squares:                                            365.097\n",
      "Effective number of parameters (trace(S)):                          328.664\n",
      "Degree of freedom (n - trace(S)):                                  1458.336\n",
      "Sigma estimate:                                                       0.500\n",
      "Log-likelihood:                                                   -1116.649\n",
      "AIC:                                                               2892.626\n",
      "AICc:                                                              3042.327\n",
      "BIC:                                                               4701.917\n",
      "R2:                                                                   0.656\n",
      "Adjusted R2:                                                          0.578\n",
      "Adj. alpha (95%):                                                     0.001\n",
      "Adj. critical t value (95%):                                          3.206\n",
      "\n",
      "Summary Statistics For GWR Parameter Estimates\n",
      "---------------------------------------------------------------------------\n",
      "Variable                   Mean        STD        Min     Median        Max\n",
      "-------------------- ---------- ---------- ---------- ---------- ----------\n",
      "X0                        0.087      0.438     -4.226      0.071      2.041\n",
      "X1                        0.049      0.379     -8.964      0.023      7.890\n",
      "X2                        0.056      0.300     -6.265      0.041      2.878\n",
      "X3                        0.175      0.331     -4.094      0.130      6.351\n",
      "X4                        0.130      0.358     -4.627      0.091      3.914\n",
      "X5                       -0.414      1.054     -6.909     -0.090      1.907\n",
      "X6                        0.133      0.833     -1.741      0.005      5.368\n",
      "X7                        0.089      0.198     -0.343      0.029      1.076\n",
      "X8                        0.015      0.108     -0.443      0.014      0.580\n",
      "===========================================================================\n",
      "\n"
     ]
    }
   ],
   "source": [
    "gwr_results.summary()"
   ]
  },
  {
   "cell_type": "code",
   "execution_count": null,
   "id": "congressional-amber",
   "metadata": {},
   "outputs": [],
   "source": []
  }
 ],
 "metadata": {
  "kernelspec": {
   "display_name": "Python 3",
   "language": "python",
   "name": "python3"
  },
  "language_info": {
   "codemirror_mode": {
    "name": "ipython",
    "version": 3
   },
   "file_extension": ".py",
   "mimetype": "text/x-python",
   "name": "python",
   "nbconvert_exporter": "python",
   "pygments_lexer": "ipython3",
   "version": "3.6.9"
  }
 },
 "nbformat": 4,
 "nbformat_minor": 5
}
